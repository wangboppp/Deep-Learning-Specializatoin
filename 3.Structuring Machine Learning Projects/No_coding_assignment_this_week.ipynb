# There is no coding assignment this week.
